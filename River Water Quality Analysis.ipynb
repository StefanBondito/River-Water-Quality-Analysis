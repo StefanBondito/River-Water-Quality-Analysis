{
 "cells": [
  {
   "cell_type": "markdown",
   "id": "6775c2e9",
   "metadata": {},
   "source": [
    "# Import Library"
   ]
  },
  {
   "cell_type": "code",
   "execution_count": 45,
   "id": "65e7297d",
   "metadata": {},
   "outputs": [],
   "source": [
    "## Import Library\n",
    "import numpy as np\n",
    "import pandas as pd\n",
    "import seaborn as sns\n",
    "import matplotlib.pyplot as plt\n",
    "\n",
    "## Evaluation Metrics\n",
    "from statsmodels.stats.outliers_influence import variance_inflation_factor\n",
    "from sklearn.metrics import confusion_matrix \n",
    "from sklearn.metrics import classification_report\n",
    "\n",
    "## Split dataset\n",
    "from sklearn.model_selection import train_test_split\n",
    "\n",
    "## Model and Param Tuning\n",
    "from sklearn.naive_bayes import GaussianNB\n",
    "from sklearn.model_selection import GridSearchCV\n",
    "from sklearn.model_selection import RepeatedStratifiedKFold\n",
    "from sklearn.neighbors import KNeighborsClassifier\n"
   ]
  },
  {
   "cell_type": "markdown",
   "id": "97c466f8",
   "metadata": {},
   "source": [
    "# Data Preparation"
   ]
  },
  {
   "cell_type": "code",
   "execution_count": 2,
   "id": "9e14b4f8",
   "metadata": {
    "scrolled": true
   },
   "outputs": [
    {
     "data": {
      "text/html": [
       "<div>\n",
       "<style scoped>\n",
       "    .dataframe tbody tr th:only-of-type {\n",
       "        vertical-align: middle;\n",
       "    }\n",
       "\n",
       "    .dataframe tbody tr th {\n",
       "        vertical-align: top;\n",
       "    }\n",
       "\n",
       "    .dataframe thead th {\n",
       "        text-align: right;\n",
       "    }\n",
       "</style>\n",
       "<table border=\"1\" class=\"dataframe\">\n",
       "  <thead>\n",
       "    <tr style=\"text-align: right;\">\n",
       "      <th></th>\n",
       "      <th>Residu Terlarut/TDS (Mg/L)</th>\n",
       "      <th>Residu Tersuspensi/TSS (Mg/L)</th>\n",
       "      <th>pH</th>\n",
       "      <th>BOD</th>\n",
       "      <th>COD</th>\n",
       "      <th>DO</th>\n",
       "      <th>Total Fosfat/ P (Mg/L)</th>\n",
       "      <th>NH3-N (Mg/L)</th>\n",
       "      <th>Fecal Coli (Jml/100 Ml)</th>\n",
       "      <th>Total Coli  (Jml/100 Ml)</th>\n",
       "      <th>...</th>\n",
       "      <th>Unnamed: 42</th>\n",
       "      <th>Unnamed: 43</th>\n",
       "      <th>Unnamed: 44</th>\n",
       "      <th>Unnamed: 45</th>\n",
       "      <th>Unnamed: 46</th>\n",
       "      <th>Unnamed: 47</th>\n",
       "      <th>Unnamed: 48</th>\n",
       "      <th>Unnamed: 49</th>\n",
       "      <th>Unnamed: 50</th>\n",
       "      <th>Unnamed: 51</th>\n",
       "    </tr>\n",
       "  </thead>\n",
       "  <tbody>\n",
       "    <tr>\n",
       "      <th>0</th>\n",
       "      <td>82.1</td>\n",
       "      <td>&lt;2,5</td>\n",
       "      <td>6.70</td>\n",
       "      <td>4.00</td>\n",
       "      <td>&lt;40</td>\n",
       "      <td>4.83</td>\n",
       "      <td>0.702</td>\n",
       "      <td>NaN</td>\n",
       "      <td>2400</td>\n",
       "      <td>3500</td>\n",
       "      <td>...</td>\n",
       "      <td>NaN</td>\n",
       "      <td>NaN</td>\n",
       "      <td>NaN</td>\n",
       "      <td>NaN</td>\n",
       "      <td>NaN</td>\n",
       "      <td>NaN</td>\n",
       "      <td>NaN</td>\n",
       "      <td>NaN</td>\n",
       "      <td>NaN</td>\n",
       "      <td>NaN</td>\n",
       "    </tr>\n",
       "    <tr>\n",
       "      <th>1</th>\n",
       "      <td>110.8</td>\n",
       "      <td>164</td>\n",
       "      <td>6.85</td>\n",
       "      <td>4.12</td>\n",
       "      <td>31</td>\n",
       "      <td>5.71</td>\n",
       "      <td>0.23</td>\n",
       "      <td>0.41</td>\n",
       "      <td>TNTCC</td>\n",
       "      <td>TNTCC</td>\n",
       "      <td>...</td>\n",
       "      <td>NaN</td>\n",
       "      <td>NaN</td>\n",
       "      <td>NaN</td>\n",
       "      <td>NaN</td>\n",
       "      <td>NaN</td>\n",
       "      <td>NaN</td>\n",
       "      <td>NaN</td>\n",
       "      <td>NaN</td>\n",
       "      <td>NaN</td>\n",
       "      <td>NaN</td>\n",
       "    </tr>\n",
       "    <tr>\n",
       "      <th>2</th>\n",
       "      <td>54.2</td>\n",
       "      <td>15</td>\n",
       "      <td>7.28</td>\n",
       "      <td>8.00</td>\n",
       "      <td>&lt;40</td>\n",
       "      <td>4.03</td>\n",
       "      <td>0.197</td>\n",
       "      <td>NaN</td>\n",
       "      <td>&gt;24000</td>\n",
       "      <td>&gt;24000</td>\n",
       "      <td>...</td>\n",
       "      <td>NaN</td>\n",
       "      <td>NaN</td>\n",
       "      <td>NaN</td>\n",
       "      <td>NaN</td>\n",
       "      <td>NaN</td>\n",
       "      <td>NaN</td>\n",
       "      <td>NaN</td>\n",
       "      <td>NaN</td>\n",
       "      <td>NaN</td>\n",
       "      <td>NaN</td>\n",
       "    </tr>\n",
       "    <tr>\n",
       "      <th>3</th>\n",
       "      <td>120.7</td>\n",
       "      <td>52</td>\n",
       "      <td>6.92</td>\n",
       "      <td>2.98</td>\n",
       "      <td>32</td>\n",
       "      <td>6.95</td>\n",
       "      <td>0.25</td>\n",
       "      <td>0.223</td>\n",
       "      <td>66000</td>\n",
       "      <td>66000</td>\n",
       "      <td>...</td>\n",
       "      <td>NaN</td>\n",
       "      <td>NaN</td>\n",
       "      <td>NaN</td>\n",
       "      <td>NaN</td>\n",
       "      <td>NaN</td>\n",
       "      <td>NaN</td>\n",
       "      <td>NaN</td>\n",
       "      <td>NaN</td>\n",
       "      <td>NaN</td>\n",
       "      <td>NaN</td>\n",
       "    </tr>\n",
       "    <tr>\n",
       "      <th>4</th>\n",
       "      <td>50.5</td>\n",
       "      <td>&lt;2,5</td>\n",
       "      <td>6.94</td>\n",
       "      <td>8.00</td>\n",
       "      <td>&lt;40</td>\n",
       "      <td>3.22</td>\n",
       "      <td>1.845</td>\n",
       "      <td>NaN</td>\n",
       "      <td>&gt;24000</td>\n",
       "      <td>&gt;24000</td>\n",
       "      <td>...</td>\n",
       "      <td>NaN</td>\n",
       "      <td>NaN</td>\n",
       "      <td>NaN</td>\n",
       "      <td>NaN</td>\n",
       "      <td>NaN</td>\n",
       "      <td>NaN</td>\n",
       "      <td>NaN</td>\n",
       "      <td>NaN</td>\n",
       "      <td>NaN</td>\n",
       "      <td>NaN</td>\n",
       "    </tr>\n",
       "  </tbody>\n",
       "</table>\n",
       "<p>5 rows × 49 columns</p>\n",
       "</div>"
      ],
      "text/plain": [
       "   Residu Terlarut/TDS (Mg/L) Residu Tersuspensi/TSS (Mg/L)    pH   BOD  COD  \\\n",
       "0                        82.1                          <2,5  6.70  4.00  <40   \n",
       "1                       110.8                           164  6.85  4.12   31   \n",
       "2                        54.2                            15  7.28  8.00  <40   \n",
       "3                       120.7                            52  6.92  2.98   32   \n",
       "4                        50.5                          <2,5  6.94  8.00  <40   \n",
       "\n",
       "     DO Total Fosfat/ P (Mg/L) NH3-N (Mg/L) Fecal Coli (Jml/100 Ml)  \\\n",
       "0  4.83                  0.702          NaN                    2400   \n",
       "1  5.71                   0.23         0.41                   TNTCC   \n",
       "2  4.03                  0.197          NaN                  >24000   \n",
       "3  6.95                   0.25        0.223                   66000   \n",
       "4  3.22                  1.845          NaN                  >24000   \n",
       "\n",
       "  Total Coli  (Jml/100 Ml)  ...  Unnamed: 42 Unnamed: 43  Unnamed: 44  \\\n",
       "0                     3500  ...          NaN         NaN          NaN   \n",
       "1                    TNTCC  ...          NaN         NaN          NaN   \n",
       "2                   >24000  ...          NaN         NaN          NaN   \n",
       "3                    66000  ...          NaN         NaN          NaN   \n",
       "4                   >24000  ...          NaN         NaN          NaN   \n",
       "\n",
       "   Unnamed: 45  Unnamed: 46  Unnamed: 47  Unnamed: 48  Unnamed: 49  \\\n",
       "0          NaN          NaN          NaN          NaN          NaN   \n",
       "1          NaN          NaN          NaN          NaN          NaN   \n",
       "2          NaN          NaN          NaN          NaN          NaN   \n",
       "3          NaN          NaN          NaN          NaN          NaN   \n",
       "4          NaN          NaN          NaN          NaN          NaN   \n",
       "\n",
       "   Unnamed: 50  Unnamed: 51  \n",
       "0          NaN          NaN  \n",
       "1          NaN          NaN  \n",
       "2          NaN          NaN  \n",
       "3          NaN          NaN  \n",
       "4          NaN          NaN  \n",
       "\n",
       "[5 rows x 49 columns]"
      ]
     },
     "execution_count": 2,
     "metadata": {},
     "output_type": "execute_result"
    }
   ],
   "source": [
    "# Import Dataset\n",
    "dataset = pd.read_excel(\"Dataset_Final.xlsx\")\n",
    "dataset = dataset.drop({'Nama Sungai', 'Lokasi Sampel', 'Waktu Pengambilan Sampel'}, axis = 1)\n",
    "dataset.head()"
   ]
  },
  {
   "cell_type": "code",
   "execution_count": 3,
   "id": "3163b3ce",
   "metadata": {
    "scrolled": true
   },
   "outputs": [
    {
     "data": {
      "text/html": [
       "<div>\n",
       "<style scoped>\n",
       "    .dataframe tbody tr th:only-of-type {\n",
       "        vertical-align: middle;\n",
       "    }\n",
       "\n",
       "    .dataframe tbody tr th {\n",
       "        vertical-align: top;\n",
       "    }\n",
       "\n",
       "    .dataframe thead th {\n",
       "        text-align: right;\n",
       "    }\n",
       "</style>\n",
       "<table border=\"1\" class=\"dataframe\">\n",
       "  <thead>\n",
       "    <tr style=\"text-align: right;\">\n",
       "      <th></th>\n",
       "      <th>Residu Terlarut/TDS (Mg/L)</th>\n",
       "      <th>Residu Tersuspensi/TSS (Mg/L)</th>\n",
       "      <th>pH</th>\n",
       "      <th>BOD</th>\n",
       "      <th>COD</th>\n",
       "      <th>DO</th>\n",
       "      <th>Total Fosfat/ P (Mg/L)</th>\n",
       "      <th>NH3-N (Mg/L)</th>\n",
       "      <th>Fecal Coli (Jml/100 Ml)</th>\n",
       "      <th>Total Coli  (Jml/100 Ml)</th>\n",
       "      <th>Debit</th>\n",
       "      <th>Status</th>\n",
       "    </tr>\n",
       "  </thead>\n",
       "  <tbody>\n",
       "    <tr>\n",
       "      <th>0</th>\n",
       "      <td>82.1</td>\n",
       "      <td>&lt;2,5</td>\n",
       "      <td>6.70</td>\n",
       "      <td>4.00</td>\n",
       "      <td>&lt;40</td>\n",
       "      <td>4.83</td>\n",
       "      <td>0.702</td>\n",
       "      <td>NaN</td>\n",
       "      <td>2400</td>\n",
       "      <td>3500</td>\n",
       "      <td>0.341</td>\n",
       "      <td>TERCEMAR</td>\n",
       "    </tr>\n",
       "    <tr>\n",
       "      <th>1</th>\n",
       "      <td>110.8</td>\n",
       "      <td>164</td>\n",
       "      <td>6.85</td>\n",
       "      <td>4.12</td>\n",
       "      <td>31</td>\n",
       "      <td>5.71</td>\n",
       "      <td>0.23</td>\n",
       "      <td>0.41</td>\n",
       "      <td>TNTCC</td>\n",
       "      <td>TNTCC</td>\n",
       "      <td>0.031</td>\n",
       "      <td>TIDAK TERCEMAR</td>\n",
       "    </tr>\n",
       "    <tr>\n",
       "      <th>2</th>\n",
       "      <td>54.2</td>\n",
       "      <td>15</td>\n",
       "      <td>7.28</td>\n",
       "      <td>8.00</td>\n",
       "      <td>&lt;40</td>\n",
       "      <td>4.03</td>\n",
       "      <td>0.197</td>\n",
       "      <td>NaN</td>\n",
       "      <td>&gt;24000</td>\n",
       "      <td>&gt;24000</td>\n",
       "      <td>1.481</td>\n",
       "      <td>TERCEMAR</td>\n",
       "    </tr>\n",
       "    <tr>\n",
       "      <th>3</th>\n",
       "      <td>120.7</td>\n",
       "      <td>52</td>\n",
       "      <td>6.92</td>\n",
       "      <td>2.98</td>\n",
       "      <td>32</td>\n",
       "      <td>6.95</td>\n",
       "      <td>0.25</td>\n",
       "      <td>0.223</td>\n",
       "      <td>66000</td>\n",
       "      <td>66000</td>\n",
       "      <td>0.090</td>\n",
       "      <td>TIDAK TERCEMAR</td>\n",
       "    </tr>\n",
       "    <tr>\n",
       "      <th>4</th>\n",
       "      <td>50.5</td>\n",
       "      <td>&lt;2,5</td>\n",
       "      <td>6.94</td>\n",
       "      <td>8.00</td>\n",
       "      <td>&lt;40</td>\n",
       "      <td>3.22</td>\n",
       "      <td>1.845</td>\n",
       "      <td>NaN</td>\n",
       "      <td>&gt;24000</td>\n",
       "      <td>&gt;24000</td>\n",
       "      <td>0.141</td>\n",
       "      <td>TERCEMAR</td>\n",
       "    </tr>\n",
       "  </tbody>\n",
       "</table>\n",
       "</div>"
      ],
      "text/plain": [
       "   Residu Terlarut/TDS (Mg/L) Residu Tersuspensi/TSS (Mg/L)    pH   BOD  COD  \\\n",
       "0                        82.1                          <2,5  6.70  4.00  <40   \n",
       "1                       110.8                           164  6.85  4.12   31   \n",
       "2                        54.2                            15  7.28  8.00  <40   \n",
       "3                       120.7                            52  6.92  2.98   32   \n",
       "4                        50.5                          <2,5  6.94  8.00  <40   \n",
       "\n",
       "     DO Total Fosfat/ P (Mg/L) NH3-N (Mg/L) Fecal Coli (Jml/100 Ml)  \\\n",
       "0  4.83                  0.702          NaN                    2400   \n",
       "1  5.71                   0.23         0.41                   TNTCC   \n",
       "2  4.03                  0.197          NaN                  >24000   \n",
       "3  6.95                   0.25        0.223                   66000   \n",
       "4  3.22                  1.845          NaN                  >24000   \n",
       "\n",
       "  Total Coli  (Jml/100 Ml)  Debit          Status  \n",
       "0                     3500  0.341        TERCEMAR  \n",
       "1                    TNTCC  0.031  TIDAK TERCEMAR  \n",
       "2                   >24000  1.481        TERCEMAR  \n",
       "3                    66000  0.090  TIDAK TERCEMAR  \n",
       "4                   >24000  0.141        TERCEMAR  "
      ]
     },
     "execution_count": 3,
     "metadata": {},
     "output_type": "execute_result"
    }
   ],
   "source": [
    "## Deciding the main dataframe\n",
    "dataframe = dataset.iloc[:,0:12]\n",
    "dataframe.head()"
   ]
  },
  {
   "cell_type": "markdown",
   "id": "9bd30acd",
   "metadata": {},
   "source": [
    "# Feature Engineering"
   ]
  },
  {
   "cell_type": "code",
   "execution_count": 4,
   "id": "d8c58d42",
   "metadata": {},
   "outputs": [
    {
     "data": {
      "text/html": [
       "<div>\n",
       "<style scoped>\n",
       "    .dataframe tbody tr th:only-of-type {\n",
       "        vertical-align: middle;\n",
       "    }\n",
       "\n",
       "    .dataframe tbody tr th {\n",
       "        vertical-align: top;\n",
       "    }\n",
       "\n",
       "    .dataframe thead th {\n",
       "        text-align: right;\n",
       "    }\n",
       "</style>\n",
       "<table border=\"1\" class=\"dataframe\">\n",
       "  <thead>\n",
       "    <tr style=\"text-align: right;\">\n",
       "      <th></th>\n",
       "      <th>Residu Terlarut</th>\n",
       "      <th>Residu Tersuspensi</th>\n",
       "      <th>pH</th>\n",
       "      <th>BOD</th>\n",
       "      <th>COD</th>\n",
       "      <th>DO</th>\n",
       "      <th>Total Fosfat</th>\n",
       "      <th>NH3-N</th>\n",
       "      <th>Fecal Coli</th>\n",
       "      <th>Total Coli</th>\n",
       "      <th>Debit</th>\n",
       "      <th>Status</th>\n",
       "    </tr>\n",
       "  </thead>\n",
       "  <tbody>\n",
       "    <tr>\n",
       "      <th>0</th>\n",
       "      <td>82.1</td>\n",
       "      <td>&lt;2,5</td>\n",
       "      <td>6.70</td>\n",
       "      <td>4.00</td>\n",
       "      <td>&lt;40</td>\n",
       "      <td>4.83</td>\n",
       "      <td>0.702</td>\n",
       "      <td>NaN</td>\n",
       "      <td>2400</td>\n",
       "      <td>3500</td>\n",
       "      <td>0.341</td>\n",
       "      <td>TERCEMAR</td>\n",
       "    </tr>\n",
       "    <tr>\n",
       "      <th>1</th>\n",
       "      <td>110.8</td>\n",
       "      <td>164</td>\n",
       "      <td>6.85</td>\n",
       "      <td>4.12</td>\n",
       "      <td>31</td>\n",
       "      <td>5.71</td>\n",
       "      <td>0.23</td>\n",
       "      <td>0.41</td>\n",
       "      <td>TNTCC</td>\n",
       "      <td>TNTCC</td>\n",
       "      <td>0.031</td>\n",
       "      <td>TIDAK TERCEMAR</td>\n",
       "    </tr>\n",
       "    <tr>\n",
       "      <th>2</th>\n",
       "      <td>54.2</td>\n",
       "      <td>15</td>\n",
       "      <td>7.28</td>\n",
       "      <td>8.00</td>\n",
       "      <td>&lt;40</td>\n",
       "      <td>4.03</td>\n",
       "      <td>0.197</td>\n",
       "      <td>NaN</td>\n",
       "      <td>&gt;24000</td>\n",
       "      <td>&gt;24000</td>\n",
       "      <td>1.481</td>\n",
       "      <td>TERCEMAR</td>\n",
       "    </tr>\n",
       "    <tr>\n",
       "      <th>3</th>\n",
       "      <td>120.7</td>\n",
       "      <td>52</td>\n",
       "      <td>6.92</td>\n",
       "      <td>2.98</td>\n",
       "      <td>32</td>\n",
       "      <td>6.95</td>\n",
       "      <td>0.25</td>\n",
       "      <td>0.223</td>\n",
       "      <td>66000</td>\n",
       "      <td>66000</td>\n",
       "      <td>0.090</td>\n",
       "      <td>TIDAK TERCEMAR</td>\n",
       "    </tr>\n",
       "    <tr>\n",
       "      <th>4</th>\n",
       "      <td>50.5</td>\n",
       "      <td>&lt;2,5</td>\n",
       "      <td>6.94</td>\n",
       "      <td>8.00</td>\n",
       "      <td>&lt;40</td>\n",
       "      <td>3.22</td>\n",
       "      <td>1.845</td>\n",
       "      <td>NaN</td>\n",
       "      <td>&gt;24000</td>\n",
       "      <td>&gt;24000</td>\n",
       "      <td>0.141</td>\n",
       "      <td>TERCEMAR</td>\n",
       "    </tr>\n",
       "  </tbody>\n",
       "</table>\n",
       "</div>"
      ],
      "text/plain": [
       "   Residu Terlarut Residu Tersuspensi    pH   BOD  COD    DO Total Fosfat  \\\n",
       "0             82.1               <2,5  6.70  4.00  <40  4.83        0.702   \n",
       "1            110.8                164  6.85  4.12   31  5.71         0.23   \n",
       "2             54.2                 15  7.28  8.00  <40  4.03        0.197   \n",
       "3            120.7                 52  6.92  2.98   32  6.95         0.25   \n",
       "4             50.5               <2,5  6.94  8.00  <40  3.22        1.845   \n",
       "\n",
       "   NH3-N Fecal Coli Total Coli  Debit          Status  \n",
       "0    NaN       2400       3500  0.341        TERCEMAR  \n",
       "1   0.41      TNTCC      TNTCC  0.031  TIDAK TERCEMAR  \n",
       "2    NaN     >24000     >24000  1.481        TERCEMAR  \n",
       "3  0.223      66000      66000  0.090  TIDAK TERCEMAR  \n",
       "4    NaN     >24000     >24000  0.141        TERCEMAR  "
      ]
     },
     "execution_count": 4,
     "metadata": {},
     "output_type": "execute_result"
    }
   ],
   "source": [
    "## Change column name\n",
    "list(dataframe)\n",
    "dataframe.rename(columns = {'Fecal Coli (Jml/100 Ml)':'Fecal Coli', \n",
    "                    'Residu Terlarut/TDS (Mg/L)':'Residu Terlarut', \n",
    "                    'Residu Tersuspensi/TSS (Mg/L)':'Residu Tersuspensi', \n",
    "                    'Total Fosfat/ P (Mg/L)' : 'Total Fosfat', \n",
    "                    'NH3-N (Mg/L)' : 'NH3-N', \n",
    "                    'Total Coli  (Jml/100 Ml)' : 'Total Coli'}, inplace = True)\n",
    "dataframe.head()"
   ]
  },
  {
   "cell_type": "code",
   "execution_count": 5,
   "id": "5179379b",
   "metadata": {
    "scrolled": false
   },
   "outputs": [
    {
     "data": {
      "text/html": [
       "<div>\n",
       "<style scoped>\n",
       "    .dataframe tbody tr th:only-of-type {\n",
       "        vertical-align: middle;\n",
       "    }\n",
       "\n",
       "    .dataframe tbody tr th {\n",
       "        vertical-align: top;\n",
       "    }\n",
       "\n",
       "    .dataframe thead th {\n",
       "        text-align: right;\n",
       "    }\n",
       "</style>\n",
       "<table border=\"1\" class=\"dataframe\">\n",
       "  <thead>\n",
       "    <tr style=\"text-align: right;\">\n",
       "      <th></th>\n",
       "      <th>Residu Terlarut</th>\n",
       "      <th>Residu Tersuspensi</th>\n",
       "      <th>pH</th>\n",
       "      <th>BOD</th>\n",
       "      <th>COD</th>\n",
       "      <th>DO</th>\n",
       "      <th>Total Fosfat</th>\n",
       "      <th>NH3-N</th>\n",
       "      <th>Fecal Coli</th>\n",
       "      <th>Total Coli</th>\n",
       "      <th>Debit</th>\n",
       "      <th>Status</th>\n",
       "    </tr>\n",
       "  </thead>\n",
       "  <tbody>\n",
       "    <tr>\n",
       "      <th>0</th>\n",
       "      <td>82.1</td>\n",
       "      <td>2.5</td>\n",
       "      <td>6.70</td>\n",
       "      <td>4.00</td>\n",
       "      <td>40</td>\n",
       "      <td>4.83</td>\n",
       "      <td>0.702</td>\n",
       "      <td>NaN</td>\n",
       "      <td>2400</td>\n",
       "      <td>3500</td>\n",
       "      <td>0.341</td>\n",
       "      <td>TERCEMAR</td>\n",
       "    </tr>\n",
       "    <tr>\n",
       "      <th>1</th>\n",
       "      <td>110.8</td>\n",
       "      <td>164</td>\n",
       "      <td>6.85</td>\n",
       "      <td>4.12</td>\n",
       "      <td>31</td>\n",
       "      <td>5.71</td>\n",
       "      <td>0.23</td>\n",
       "      <td>0.41</td>\n",
       "      <td>TNTCC</td>\n",
       "      <td>TNTCC</td>\n",
       "      <td>0.031</td>\n",
       "      <td>TIDAK TERCEMAR</td>\n",
       "    </tr>\n",
       "    <tr>\n",
       "      <th>2</th>\n",
       "      <td>54.2</td>\n",
       "      <td>15</td>\n",
       "      <td>7.28</td>\n",
       "      <td>8.00</td>\n",
       "      <td>40</td>\n",
       "      <td>4.03</td>\n",
       "      <td>0.197</td>\n",
       "      <td>NaN</td>\n",
       "      <td>24000</td>\n",
       "      <td>24000</td>\n",
       "      <td>1.481</td>\n",
       "      <td>TERCEMAR</td>\n",
       "    </tr>\n",
       "    <tr>\n",
       "      <th>3</th>\n",
       "      <td>120.7</td>\n",
       "      <td>52</td>\n",
       "      <td>6.92</td>\n",
       "      <td>2.98</td>\n",
       "      <td>32</td>\n",
       "      <td>6.95</td>\n",
       "      <td>0.25</td>\n",
       "      <td>0.223</td>\n",
       "      <td>66000</td>\n",
       "      <td>66000</td>\n",
       "      <td>0.090</td>\n",
       "      <td>TIDAK TERCEMAR</td>\n",
       "    </tr>\n",
       "    <tr>\n",
       "      <th>4</th>\n",
       "      <td>50.5</td>\n",
       "      <td>2.5</td>\n",
       "      <td>6.94</td>\n",
       "      <td>8.00</td>\n",
       "      <td>40</td>\n",
       "      <td>3.22</td>\n",
       "      <td>1.845</td>\n",
       "      <td>NaN</td>\n",
       "      <td>24000</td>\n",
       "      <td>24000</td>\n",
       "      <td>0.141</td>\n",
       "      <td>TERCEMAR</td>\n",
       "    </tr>\n",
       "  </tbody>\n",
       "</table>\n",
       "</div>"
      ],
      "text/plain": [
       "   Residu Terlarut Residu Tersuspensi    pH   BOD COD    DO Total Fosfat  \\\n",
       "0             82.1                2.5  6.70  4.00  40  4.83        0.702   \n",
       "1            110.8                164  6.85  4.12  31  5.71         0.23   \n",
       "2             54.2                 15  7.28  8.00  40  4.03        0.197   \n",
       "3            120.7                 52  6.92  2.98  32  6.95         0.25   \n",
       "4             50.5                2.5  6.94  8.00  40  3.22        1.845   \n",
       "\n",
       "   NH3-N Fecal Coli Total Coli  Debit          Status  \n",
       "0    NaN       2400       3500  0.341        TERCEMAR  \n",
       "1   0.41      TNTCC      TNTCC  0.031  TIDAK TERCEMAR  \n",
       "2    NaN      24000      24000  1.481        TERCEMAR  \n",
       "3  0.223      66000      66000  0.090  TIDAK TERCEMAR  \n",
       "4    NaN      24000      24000  0.141        TERCEMAR  "
      ]
     },
     "execution_count": 5,
     "metadata": {},
     "output_type": "execute_result"
    }
   ],
   "source": [
    "## Replacing symbols to empty characters\n",
    "dataframe = dataframe.replace('<', '', regex = True)\n",
    "dataframe = dataframe.replace('>', '', regex = True)\n",
    "dataframe = dataframe.replace(',', '.', regex = True)\n",
    "dataframe.head()"
   ]
  },
  {
   "cell_type": "code",
   "execution_count": 6,
   "id": "e9ad06a7",
   "metadata": {},
   "outputs": [
    {
     "data": {
      "text/html": [
       "<div>\n",
       "<style scoped>\n",
       "    .dataframe tbody tr th:only-of-type {\n",
       "        vertical-align: middle;\n",
       "    }\n",
       "\n",
       "    .dataframe tbody tr th {\n",
       "        vertical-align: top;\n",
       "    }\n",
       "\n",
       "    .dataframe thead th {\n",
       "        text-align: right;\n",
       "    }\n",
       "</style>\n",
       "<table border=\"1\" class=\"dataframe\">\n",
       "  <thead>\n",
       "    <tr style=\"text-align: right;\">\n",
       "      <th></th>\n",
       "      <th>Residu Terlarut</th>\n",
       "      <th>Residu Tersuspensi</th>\n",
       "      <th>pH</th>\n",
       "      <th>BOD</th>\n",
       "      <th>COD</th>\n",
       "      <th>DO</th>\n",
       "      <th>Total Fosfat</th>\n",
       "      <th>NH3-N</th>\n",
       "      <th>Fecal Coli</th>\n",
       "      <th>Total Coli</th>\n",
       "      <th>Debit</th>\n",
       "      <th>Status</th>\n",
       "    </tr>\n",
       "  </thead>\n",
       "  <tbody>\n",
       "    <tr>\n",
       "      <th>0</th>\n",
       "      <td>82.1</td>\n",
       "      <td>2.5</td>\n",
       "      <td>6.70</td>\n",
       "      <td>4.00</td>\n",
       "      <td>40</td>\n",
       "      <td>4.83</td>\n",
       "      <td>0.702</td>\n",
       "      <td>NaN</td>\n",
       "      <td>2400</td>\n",
       "      <td>3500</td>\n",
       "      <td>0.341</td>\n",
       "      <td>TERCEMAR</td>\n",
       "    </tr>\n",
       "    <tr>\n",
       "      <th>1</th>\n",
       "      <td>110.8</td>\n",
       "      <td>164</td>\n",
       "      <td>6.85</td>\n",
       "      <td>4.12</td>\n",
       "      <td>31</td>\n",
       "      <td>5.71</td>\n",
       "      <td>0.23</td>\n",
       "      <td>0.41</td>\n",
       "      <td>NaN</td>\n",
       "      <td>NaN</td>\n",
       "      <td>0.031</td>\n",
       "      <td>TIDAK TERCEMAR</td>\n",
       "    </tr>\n",
       "    <tr>\n",
       "      <th>2</th>\n",
       "      <td>54.2</td>\n",
       "      <td>15</td>\n",
       "      <td>7.28</td>\n",
       "      <td>8.00</td>\n",
       "      <td>40</td>\n",
       "      <td>4.03</td>\n",
       "      <td>0.197</td>\n",
       "      <td>NaN</td>\n",
       "      <td>24000</td>\n",
       "      <td>24000</td>\n",
       "      <td>1.481</td>\n",
       "      <td>TERCEMAR</td>\n",
       "    </tr>\n",
       "    <tr>\n",
       "      <th>3</th>\n",
       "      <td>120.7</td>\n",
       "      <td>52</td>\n",
       "      <td>6.92</td>\n",
       "      <td>2.98</td>\n",
       "      <td>32</td>\n",
       "      <td>6.95</td>\n",
       "      <td>0.25</td>\n",
       "      <td>0.223</td>\n",
       "      <td>66000</td>\n",
       "      <td>66000</td>\n",
       "      <td>0.090</td>\n",
       "      <td>TIDAK TERCEMAR</td>\n",
       "    </tr>\n",
       "    <tr>\n",
       "      <th>4</th>\n",
       "      <td>50.5</td>\n",
       "      <td>2.5</td>\n",
       "      <td>6.94</td>\n",
       "      <td>8.00</td>\n",
       "      <td>40</td>\n",
       "      <td>3.22</td>\n",
       "      <td>1.845</td>\n",
       "      <td>NaN</td>\n",
       "      <td>24000</td>\n",
       "      <td>24000</td>\n",
       "      <td>0.141</td>\n",
       "      <td>TERCEMAR</td>\n",
       "    </tr>\n",
       "  </tbody>\n",
       "</table>\n",
       "</div>"
      ],
      "text/plain": [
       "   Residu Terlarut Residu Tersuspensi    pH   BOD COD    DO Total Fosfat  \\\n",
       "0             82.1                2.5  6.70  4.00  40  4.83        0.702   \n",
       "1            110.8                164  6.85  4.12  31  5.71         0.23   \n",
       "2             54.2                 15  7.28  8.00  40  4.03        0.197   \n",
       "3            120.7                 52  6.92  2.98  32  6.95         0.25   \n",
       "4             50.5                2.5  6.94  8.00  40  3.22        1.845   \n",
       "\n",
       "   NH3-N Fecal Coli Total Coli  Debit          Status  \n",
       "0    NaN       2400       3500  0.341        TERCEMAR  \n",
       "1   0.41        NaN        NaN  0.031  TIDAK TERCEMAR  \n",
       "2    NaN      24000      24000  1.481        TERCEMAR  \n",
       "3  0.223      66000      66000  0.090  TIDAK TERCEMAR  \n",
       "4    NaN      24000      24000  0.141        TERCEMAR  "
      ]
     },
     "execution_count": 6,
     "metadata": {},
     "output_type": "execute_result"
    }
   ],
   "source": [
    "## Replace string to NaN (NA Values)\n",
    "dataframe['Fecal Coli'].replace('TNTCC', np.nan, inplace = True)\n",
    "dataframe['Total Coli'].replace('TNTCC', np.nan, inplace = True)\n",
    "dataframe.head()"
   ]
  },
  {
   "cell_type": "code",
   "execution_count": 7,
   "id": "7dbd1840",
   "metadata": {},
   "outputs": [
    {
     "data": {
      "text/html": [
       "<div>\n",
       "<style scoped>\n",
       "    .dataframe tbody tr th:only-of-type {\n",
       "        vertical-align: middle;\n",
       "    }\n",
       "\n",
       "    .dataframe tbody tr th {\n",
       "        vertical-align: top;\n",
       "    }\n",
       "\n",
       "    .dataframe thead th {\n",
       "        text-align: right;\n",
       "    }\n",
       "</style>\n",
       "<table border=\"1\" class=\"dataframe\">\n",
       "  <thead>\n",
       "    <tr style=\"text-align: right;\">\n",
       "      <th></th>\n",
       "      <th>Residu Terlarut</th>\n",
       "      <th>Residu Tersuspensi</th>\n",
       "      <th>pH</th>\n",
       "      <th>BOD</th>\n",
       "      <th>COD</th>\n",
       "      <th>DO</th>\n",
       "      <th>Total Fosfat</th>\n",
       "      <th>NH3-N</th>\n",
       "      <th>Fecal Coli</th>\n",
       "      <th>Total Coli</th>\n",
       "      <th>Debit</th>\n",
       "      <th>Status</th>\n",
       "    </tr>\n",
       "  </thead>\n",
       "  <tbody>\n",
       "    <tr>\n",
       "      <th>0</th>\n",
       "      <td>82.1</td>\n",
       "      <td>2.5</td>\n",
       "      <td>6.70</td>\n",
       "      <td>4.00</td>\n",
       "      <td>40</td>\n",
       "      <td>4.83</td>\n",
       "      <td>0.702</td>\n",
       "      <td>NaN</td>\n",
       "      <td>2400</td>\n",
       "      <td>3500</td>\n",
       "      <td>0.341</td>\n",
       "      <td>1</td>\n",
       "    </tr>\n",
       "    <tr>\n",
       "      <th>1</th>\n",
       "      <td>110.8</td>\n",
       "      <td>164</td>\n",
       "      <td>6.85</td>\n",
       "      <td>4.12</td>\n",
       "      <td>31</td>\n",
       "      <td>5.71</td>\n",
       "      <td>0.23</td>\n",
       "      <td>0.41</td>\n",
       "      <td>NaN</td>\n",
       "      <td>NaN</td>\n",
       "      <td>0.031</td>\n",
       "      <td>0</td>\n",
       "    </tr>\n",
       "    <tr>\n",
       "      <th>2</th>\n",
       "      <td>54.2</td>\n",
       "      <td>15</td>\n",
       "      <td>7.28</td>\n",
       "      <td>8.00</td>\n",
       "      <td>40</td>\n",
       "      <td>4.03</td>\n",
       "      <td>0.197</td>\n",
       "      <td>NaN</td>\n",
       "      <td>24000</td>\n",
       "      <td>24000</td>\n",
       "      <td>1.481</td>\n",
       "      <td>1</td>\n",
       "    </tr>\n",
       "    <tr>\n",
       "      <th>3</th>\n",
       "      <td>120.7</td>\n",
       "      <td>52</td>\n",
       "      <td>6.92</td>\n",
       "      <td>2.98</td>\n",
       "      <td>32</td>\n",
       "      <td>6.95</td>\n",
       "      <td>0.25</td>\n",
       "      <td>0.223</td>\n",
       "      <td>66000</td>\n",
       "      <td>66000</td>\n",
       "      <td>0.090</td>\n",
       "      <td>0</td>\n",
       "    </tr>\n",
       "    <tr>\n",
       "      <th>4</th>\n",
       "      <td>50.5</td>\n",
       "      <td>2.5</td>\n",
       "      <td>6.94</td>\n",
       "      <td>8.00</td>\n",
       "      <td>40</td>\n",
       "      <td>3.22</td>\n",
       "      <td>1.845</td>\n",
       "      <td>NaN</td>\n",
       "      <td>24000</td>\n",
       "      <td>24000</td>\n",
       "      <td>0.141</td>\n",
       "      <td>1</td>\n",
       "    </tr>\n",
       "  </tbody>\n",
       "</table>\n",
       "</div>"
      ],
      "text/plain": [
       "   Residu Terlarut Residu Tersuspensi    pH   BOD COD    DO Total Fosfat  \\\n",
       "0             82.1                2.5  6.70  4.00  40  4.83        0.702   \n",
       "1            110.8                164  6.85  4.12  31  5.71         0.23   \n",
       "2             54.2                 15  7.28  8.00  40  4.03        0.197   \n",
       "3            120.7                 52  6.92  2.98  32  6.95         0.25   \n",
       "4             50.5                2.5  6.94  8.00  40  3.22        1.845   \n",
       "\n",
       "   NH3-N Fecal Coli Total Coli  Debit  Status  \n",
       "0    NaN       2400       3500  0.341       1  \n",
       "1   0.41        NaN        NaN  0.031       0  \n",
       "2    NaN      24000      24000  1.481       1  \n",
       "3  0.223      66000      66000  0.090       0  \n",
       "4    NaN      24000      24000  0.141       1  "
      ]
     },
     "execution_count": 7,
     "metadata": {},
     "output_type": "execute_result"
    }
   ],
   "source": [
    "## Refactoring Status as 1 and 0\n",
    "dataframe['Status'].replace({'TERCEMAR' : 1, \"TIDAK TERCEMAR\" : 0}, inplace = True)\n",
    "dataframe.head()"
   ]
  },
  {
   "cell_type": "code",
   "execution_count": 8,
   "id": "127ee69d",
   "metadata": {},
   "outputs": [
    {
     "data": {
      "text/plain": [
       "Residu Terlarut       float64\n",
       "Residu Tersuspensi    float64\n",
       "pH                    float64\n",
       "BOD                   float64\n",
       "COD                   float64\n",
       "DO                    float64\n",
       "Total Fosfat          float64\n",
       "NH3-N                 float64\n",
       "Fecal Coli            float64\n",
       "Total Coli            float64\n",
       "Debit                 float64\n",
       "Status                float64\n",
       "dtype: object"
      ]
     },
     "execution_count": 8,
     "metadata": {},
     "output_type": "execute_result"
    }
   ],
   "source": [
    "## Convert data type to float\n",
    "dataframe = dataframe.astype(float)\n",
    "dataframe.dtypes"
   ]
  },
  {
   "cell_type": "code",
   "execution_count": 9,
   "id": "1ef7ed48",
   "metadata": {},
   "outputs": [],
   "source": [
    "## Imputing empty values with Max value\n",
    "dataframe_numeric = dataframe.select_dtypes(include=[np.number])\n",
    "numeric_cols = dataframe_numeric.columns.values\n",
    "for col in numeric_cols:\n",
    "    missing = dataframe[col].isnull()\n",
    "    num_missing = np.sum(missing)\n",
    "    if num_missing > 0:  # impute values only for columns that have missing values\n",
    "        maximum = dataframe[col].max() #impute with the maximum data in a column\n",
    "        dataframe[col] = dataframe[col].fillna(maximum)"
   ]
  },
  {
   "cell_type": "code",
   "execution_count": 10,
   "id": "1ad38999",
   "metadata": {},
   "outputs": [
    {
     "data": {
      "text/html": [
       "<div>\n",
       "<style scoped>\n",
       "    .dataframe tbody tr th:only-of-type {\n",
       "        vertical-align: middle;\n",
       "    }\n",
       "\n",
       "    .dataframe tbody tr th {\n",
       "        vertical-align: top;\n",
       "    }\n",
       "\n",
       "    .dataframe thead th {\n",
       "        text-align: right;\n",
       "    }\n",
       "</style>\n",
       "<table border=\"1\" class=\"dataframe\">\n",
       "  <thead>\n",
       "    <tr style=\"text-align: right;\">\n",
       "      <th></th>\n",
       "      <th>Residu Terlarut</th>\n",
       "      <th>Residu Tersuspensi</th>\n",
       "      <th>pH</th>\n",
       "      <th>BOD</th>\n",
       "      <th>COD</th>\n",
       "      <th>DO</th>\n",
       "      <th>Total Fosfat</th>\n",
       "      <th>NH3-N</th>\n",
       "      <th>Fecal Coli</th>\n",
       "      <th>Total Coli</th>\n",
       "      <th>Debit</th>\n",
       "      <th>Status</th>\n",
       "    </tr>\n",
       "  </thead>\n",
       "  <tbody>\n",
       "    <tr>\n",
       "      <th>0</th>\n",
       "      <td>82.1</td>\n",
       "      <td>2.5</td>\n",
       "      <td>6.70</td>\n",
       "      <td>4.00</td>\n",
       "      <td>40.0</td>\n",
       "      <td>4.83</td>\n",
       "      <td>0.702</td>\n",
       "      <td>1.230</td>\n",
       "      <td>2400.0</td>\n",
       "      <td>3500.0</td>\n",
       "      <td>0.341</td>\n",
       "      <td>1.0</td>\n",
       "    </tr>\n",
       "    <tr>\n",
       "      <th>1</th>\n",
       "      <td>110.8</td>\n",
       "      <td>164.0</td>\n",
       "      <td>6.85</td>\n",
       "      <td>4.12</td>\n",
       "      <td>31.0</td>\n",
       "      <td>5.71</td>\n",
       "      <td>0.230</td>\n",
       "      <td>0.410</td>\n",
       "      <td>240000.0</td>\n",
       "      <td>240000.0</td>\n",
       "      <td>0.031</td>\n",
       "      <td>0.0</td>\n",
       "    </tr>\n",
       "    <tr>\n",
       "      <th>2</th>\n",
       "      <td>54.2</td>\n",
       "      <td>15.0</td>\n",
       "      <td>7.28</td>\n",
       "      <td>8.00</td>\n",
       "      <td>40.0</td>\n",
       "      <td>4.03</td>\n",
       "      <td>0.197</td>\n",
       "      <td>1.230</td>\n",
       "      <td>24000.0</td>\n",
       "      <td>24000.0</td>\n",
       "      <td>1.481</td>\n",
       "      <td>1.0</td>\n",
       "    </tr>\n",
       "    <tr>\n",
       "      <th>3</th>\n",
       "      <td>120.7</td>\n",
       "      <td>52.0</td>\n",
       "      <td>6.92</td>\n",
       "      <td>2.98</td>\n",
       "      <td>32.0</td>\n",
       "      <td>6.95</td>\n",
       "      <td>0.250</td>\n",
       "      <td>0.223</td>\n",
       "      <td>66000.0</td>\n",
       "      <td>66000.0</td>\n",
       "      <td>0.090</td>\n",
       "      <td>0.0</td>\n",
       "    </tr>\n",
       "    <tr>\n",
       "      <th>4</th>\n",
       "      <td>50.5</td>\n",
       "      <td>2.5</td>\n",
       "      <td>6.94</td>\n",
       "      <td>8.00</td>\n",
       "      <td>40.0</td>\n",
       "      <td>3.22</td>\n",
       "      <td>1.845</td>\n",
       "      <td>1.230</td>\n",
       "      <td>24000.0</td>\n",
       "      <td>24000.0</td>\n",
       "      <td>0.141</td>\n",
       "      <td>1.0</td>\n",
       "    </tr>\n",
       "  </tbody>\n",
       "</table>\n",
       "</div>"
      ],
      "text/plain": [
       "   Residu Terlarut  Residu Tersuspensi    pH   BOD   COD    DO  Total Fosfat  \\\n",
       "0             82.1                 2.5  6.70  4.00  40.0  4.83         0.702   \n",
       "1            110.8               164.0  6.85  4.12  31.0  5.71         0.230   \n",
       "2             54.2                15.0  7.28  8.00  40.0  4.03         0.197   \n",
       "3            120.7                52.0  6.92  2.98  32.0  6.95         0.250   \n",
       "4             50.5                 2.5  6.94  8.00  40.0  3.22         1.845   \n",
       "\n",
       "   NH3-N  Fecal Coli  Total Coli  Debit  Status  \n",
       "0  1.230      2400.0      3500.0  0.341     1.0  \n",
       "1  0.410    240000.0    240000.0  0.031     0.0  \n",
       "2  1.230     24000.0     24000.0  1.481     1.0  \n",
       "3  0.223     66000.0     66000.0  0.090     0.0  \n",
       "4  1.230     24000.0     24000.0  0.141     1.0  "
      ]
     },
     "execution_count": 10,
     "metadata": {},
     "output_type": "execute_result"
    }
   ],
   "source": [
    "dataframe.head()"
   ]
  },
  {
   "cell_type": "markdown",
   "id": "6523af1e",
   "metadata": {},
   "source": [
    "# Exploratory Data Analysis"
   ]
  },
  {
   "cell_type": "code",
   "execution_count": 11,
   "id": "7523bba2",
   "metadata": {
    "scrolled": true
   },
   "outputs": [
    {
     "name": "stdout",
     "output_type": "stream",
     "text": [
      "<class 'pandas.core.frame.DataFrame'>\n",
      "RangeIndex: 120 entries, 0 to 119\n",
      "Data columns (total 12 columns):\n",
      " #   Column              Non-Null Count  Dtype  \n",
      "---  ------              --------------  -----  \n",
      " 0   Residu Terlarut     120 non-null    float64\n",
      " 1   Residu Tersuspensi  120 non-null    float64\n",
      " 2   pH                  120 non-null    float64\n",
      " 3   BOD                 120 non-null    float64\n",
      " 4   COD                 120 non-null    float64\n",
      " 5   DO                  120 non-null    float64\n",
      " 6   Total Fosfat        120 non-null    float64\n",
      " 7   NH3-N               120 non-null    float64\n",
      " 8   Fecal Coli          120 non-null    float64\n",
      " 9   Total Coli          120 non-null    float64\n",
      " 10  Debit               120 non-null    float64\n",
      " 11  Status              120 non-null    float64\n",
      "dtypes: float64(12)\n",
      "memory usage: 11.4 KB\n"
     ]
    }
   ],
   "source": [
    "dataframe.info()"
   ]
  },
  {
   "cell_type": "code",
   "execution_count": 12,
   "id": "a62d7581",
   "metadata": {
    "scrolled": true
   },
   "outputs": [
    {
     "data": {
      "image/png": "[encoded data removed]",
      "text/plain": [
       "<Figure size 720x720 with 2 Axes>"
      ]
     },
     "metadata": {
      "needs_background": "light"
     },
     "output_type": "display_data"
    }
   ],
   "source": [
    "## Correlation Plot for the dataframe\n",
    "plt.figure(figsize = (10, 10))\n",
    "sns.heatmap(dataframe.corr(), annot=True, cmap = 'cubehelix', square=True, vmax = 1)\n",
    "plt.show()"
   ]
  },
  {
   "cell_type": "code",
   "execution_count": 16,
   "id": "4aa857e6",
   "metadata": {
    "scrolled": false
   },
   "outputs": [],
   "source": [
    "## Deciding the x and y variable\n",
    "x = dataframe.iloc[:,0:10]\n",
    "y = dataframe.iloc[:, 11]\n",
    "y = y.astype(int)"
   ]
  },
  {
   "cell_type": "code",
   "execution_count": 17,
   "id": "57ce6bd5",
   "metadata": {
    "scrolled": true
   },
   "outputs": [
    {
     "data": {
      "text/html": [
       "<div>\n",
       "<style scoped>\n",
       "    .dataframe tbody tr th:only-of-type {\n",
       "        vertical-align: middle;\n",
       "    }\n",
       "\n",
       "    .dataframe tbody tr th {\n",
       "        vertical-align: top;\n",
       "    }\n",
       "\n",
       "    .dataframe thead th {\n",
       "        text-align: right;\n",
       "    }\n",
       "</style>\n",
       "<table border=\"1\" class=\"dataframe\">\n",
       "  <thead>\n",
       "    <tr style=\"text-align: right;\">\n",
       "      <th></th>\n",
       "      <th>Residu Terlarut</th>\n",
       "      <th>Residu Tersuspensi</th>\n",
       "      <th>pH</th>\n",
       "      <th>BOD</th>\n",
       "      <th>COD</th>\n",
       "      <th>DO</th>\n",
       "      <th>Total Fosfat</th>\n",
       "      <th>NH3-N</th>\n",
       "      <th>Fecal Coli</th>\n",
       "      <th>Total Coli</th>\n",
       "    </tr>\n",
       "  </thead>\n",
       "  <tbody>\n",
       "    <tr>\n",
       "      <th>0</th>\n",
       "      <td>82.1</td>\n",
       "      <td>2.5</td>\n",
       "      <td>6.70</td>\n",
       "      <td>4.00</td>\n",
       "      <td>40.0</td>\n",
       "      <td>4.83</td>\n",
       "      <td>0.702</td>\n",
       "      <td>1.230</td>\n",
       "      <td>2400.0</td>\n",
       "      <td>3500.0</td>\n",
       "    </tr>\n",
       "    <tr>\n",
       "      <th>1</th>\n",
       "      <td>110.8</td>\n",
       "      <td>164.0</td>\n",
       "      <td>6.85</td>\n",
       "      <td>4.12</td>\n",
       "      <td>31.0</td>\n",
       "      <td>5.71</td>\n",
       "      <td>0.230</td>\n",
       "      <td>0.410</td>\n",
       "      <td>240000.0</td>\n",
       "      <td>240000.0</td>\n",
       "    </tr>\n",
       "    <tr>\n",
       "      <th>2</th>\n",
       "      <td>54.2</td>\n",
       "      <td>15.0</td>\n",
       "      <td>7.28</td>\n",
       "      <td>8.00</td>\n",
       "      <td>40.0</td>\n",
       "      <td>4.03</td>\n",
       "      <td>0.197</td>\n",
       "      <td>1.230</td>\n",
       "      <td>24000.0</td>\n",
       "      <td>24000.0</td>\n",
       "    </tr>\n",
       "    <tr>\n",
       "      <th>3</th>\n",
       "      <td>120.7</td>\n",
       "      <td>52.0</td>\n",
       "      <td>6.92</td>\n",
       "      <td>2.98</td>\n",
       "      <td>32.0</td>\n",
       "      <td>6.95</td>\n",
       "      <td>0.250</td>\n",
       "      <td>0.223</td>\n",
       "      <td>66000.0</td>\n",
       "      <td>66000.0</td>\n",
       "    </tr>\n",
       "    <tr>\n",
       "      <th>4</th>\n",
       "      <td>50.5</td>\n",
       "      <td>2.5</td>\n",
       "      <td>6.94</td>\n",
       "      <td>8.00</td>\n",
       "      <td>40.0</td>\n",
       "      <td>3.22</td>\n",
       "      <td>1.845</td>\n",
       "      <td>1.230</td>\n",
       "      <td>24000.0</td>\n",
       "      <td>24000.0</td>\n",
       "    </tr>\n",
       "  </tbody>\n",
       "</table>\n",
       "</div>"
      ],
      "text/plain": [
       "   Residu Terlarut  Residu Tersuspensi    pH   BOD   COD    DO  Total Fosfat  \\\n",
       "0             82.1                 2.5  6.70  4.00  40.0  4.83         0.702   \n",
       "1            110.8               164.0  6.85  4.12  31.0  5.71         0.230   \n",
       "2             54.2                15.0  7.28  8.00  40.0  4.03         0.197   \n",
       "3            120.7                52.0  6.92  2.98  32.0  6.95         0.250   \n",
       "4             50.5                 2.5  6.94  8.00  40.0  3.22         1.845   \n",
       "\n",
       "   NH3-N  Fecal Coli  Total Coli  \n",
       "0  1.230      2400.0      3500.0  \n",
       "1  0.410    240000.0    240000.0  \n",
       "2  1.230     24000.0     24000.0  \n",
       "3  0.223     66000.0     66000.0  \n",
       "4  1.230     24000.0     24000.0  "
      ]
     },
     "execution_count": 17,
     "metadata": {},
     "output_type": "execute_result"
    }
   ],
   "source": [
    "x.head()"
   ]
  },
  {
   "cell_type": "code",
   "execution_count": 18,
   "id": "fd453983",
   "metadata": {},
   "outputs": [
    {
     "name": "stdout",
     "output_type": "stream",
     "text": [
      "              Feature        VIF\n",
      "0     Residu Terlarut   1.681251\n",
      "1  Residu Tersuspensi   1.890537\n",
      "2                  pH  32.737285\n",
      "3                 BOD   5.119548\n",
      "4                 COD   4.387238\n",
      "5                  DO  21.052184\n",
      "6        Total Fosfat   1.941588\n",
      "7               NH3-N   5.574336\n",
      "8          Fecal Coli  26.376975\n",
      "9          Total Coli  28.277985\n"
     ]
    }
   ],
   "source": [
    "## Checking for multicollinearity\n",
    "vif_data = pd.DataFrame()\n",
    "vif_data[\"Feature\"] = x.columns\n",
    "\n",
    "vif_data[\"VIF\"] = [variance_inflation_factor(x.values, i)\n",
    "                  for i in range(len(x.columns))]\n",
    "print(vif_data)"
   ]
  },
  {
   "cell_type": "code",
   "execution_count": 19,
   "id": "e39bf2d5",
   "metadata": {},
   "outputs": [],
   "source": [
    "## Removing the variables with high VIF value\n",
    "x = x.drop('pH', axis=1)\n",
    "x = x.drop('Total Coli', axis=1)"
   ]
  },
  {
   "cell_type": "code",
   "execution_count": 20,
   "id": "8a4685b7",
   "metadata": {},
   "outputs": [
    {
     "name": "stdout",
     "output_type": "stream",
     "text": [
      "              Feature       VIF\n",
      "0     Residu Terlarut  1.578096\n",
      "1  Residu Tersuspensi  1.875829\n",
      "2                 BOD  4.001448\n",
      "3                 COD  3.450457\n",
      "4                  DO  3.812352\n",
      "5        Total Fosfat  1.769596\n",
      "6               NH3-N  3.392016\n",
      "7          Fecal Coli  1.935437\n"
     ]
    }
   ],
   "source": [
    "## Checking for multicollinearity\n",
    "vif_data = pd.DataFrame()\n",
    "vif_data[\"Feature\"] = x.columns\n",
    "\n",
    "vif_data[\"VIF\"] = [variance_inflation_factor(x.values, i)\n",
    "                  for i in range(len(x.columns))]\n",
    "print(vif_data)"
   ]
  },
  {
   "cell_type": "markdown",
   "id": "62b56ed1",
   "metadata": {},
   "source": [
    "Dengan menghapus variabel sebelumnya, terlihat sekarang nilai VIF berada di bawah 5, yang menunjukkan multikolinearitas rendah."
   ]
  },
  {
   "cell_type": "markdown",
   "id": "243f3c20",
   "metadata": {},
   "source": [
    "# Data Splitting"
   ]
  },
  {
   "cell_type": "code",
   "execution_count": 21,
   "id": "a31252a0",
   "metadata": {},
   "outputs": [],
   "source": [
    "x_train, x_test, y_train, y_test = train_test_split(x, y, test_size = 0.3, random_state = 63, stratify=y)"
   ]
  },
  {
   "cell_type": "code",
   "execution_count": 22,
   "id": "8587493e",
   "metadata": {},
   "outputs": [
    {
     "data": {
      "text/plain": [
       "84"
      ]
     },
     "execution_count": 22,
     "metadata": {},
     "output_type": "execute_result"
    }
   ],
   "source": [
    "## Check total of test and training data\n",
    "len(x_train)"
   ]
  },
  {
   "cell_type": "code",
   "execution_count": 23,
   "id": "b2c0a0b9",
   "metadata": {},
   "outputs": [
    {
     "data": {
      "text/plain": [
       "36"
      ]
     },
     "execution_count": 23,
     "metadata": {},
     "output_type": "execute_result"
    }
   ],
   "source": [
    "len(x_test)"
   ]
  },
  {
   "cell_type": "markdown",
   "id": "0738bed7",
   "metadata": {},
   "source": [
    "# Data Modelling"
   ]
  },
  {
   "cell_type": "markdown",
   "id": "10fff447",
   "metadata": {},
   "source": [
    "## 1st Model: Naive Bayes"
   ]
  },
  {
   "cell_type": "code",
   "execution_count": 24,
   "id": "53d706a5",
   "metadata": {},
   "outputs": [
    {
     "data": {
      "text/plain": [
       "GaussianNB()"
      ]
     },
     "execution_count": 24,
     "metadata": {},
     "output_type": "execute_result"
    }
   ],
   "source": [
    "nb = GaussianNB()\n",
    "nb.fit(x_train, y_train)"
   ]
  },
  {
   "cell_type": "code",
   "execution_count": 25,
   "id": "8968d223",
   "metadata": {},
   "outputs": [
    {
     "data": {
      "text/plain": [
       "array([0, 1, 0, 1, 1, 1, 1, 0, 1, 1, 1, 1, 1, 0, 0, 0, 0, 0, 1, 1, 1, 1,\n",
       "       0, 1, 0, 1, 1, 1, 0, 1, 1, 0, 0, 0, 0, 1, 0, 0, 1, 1, 1, 1, 1, 0,\n",
       "       0, 1, 1, 1, 1, 1, 0, 0, 0, 0, 1, 1, 0, 1, 1, 1, 0, 0, 0, 1, 1, 1,\n",
       "       1, 1, 0, 1, 1, 0, 1, 1, 0, 1, 1, 1, 1, 0, 0, 1, 1, 0])"
      ]
     },
     "execution_count": 25,
     "metadata": {},
     "output_type": "execute_result"
    }
   ],
   "source": [
    "yhat_train = nb.predict(x_train)\n",
    "yhat_train"
   ]
  },
  {
   "cell_type": "code",
   "execution_count": 26,
   "id": "d4c989b8",
   "metadata": {},
   "outputs": [
    {
     "name": "stdout",
     "output_type": "stream",
     "text": [
      "[[21  0]\n",
      " [12 51]]\n"
     ]
    }
   ],
   "source": [
    "cm_train_nb = confusion_matrix(y_train,yhat_train)\n",
    "print(cm_train_nb)"
   ]
  },
  {
   "cell_type": "code",
   "execution_count": 27,
   "id": "72df3334",
   "metadata": {},
   "outputs": [
    {
     "name": "stdout",
     "output_type": "stream",
     "text": [
      "              precision    recall  f1-score   support\n",
      "\n",
      "           0       1.00      0.64      0.78        33\n",
      "           1       0.81      1.00      0.89        51\n",
      "\n",
      "    accuracy                           0.86        84\n",
      "   macro avg       0.90      0.82      0.84        84\n",
      "weighted avg       0.88      0.86      0.85        84\n",
      "\n"
     ]
    }
   ],
   "source": [
    "print(classification_report(yhat_train, y_train))"
   ]
  },
  {
   "cell_type": "code",
   "execution_count": 28,
   "id": "ed02147e",
   "metadata": {},
   "outputs": [
    {
     "data": {
      "text/plain": [
       "array([1, 1, 0, 0, 1, 1, 1, 0, 0, 0, 1, 0, 1, 0, 0, 0, 1, 1, 1, 1, 0, 1,\n",
       "       1, 1, 1, 0, 0, 0, 1, 1, 1, 1, 1, 0, 1, 1])"
      ]
     },
     "execution_count": 28,
     "metadata": {},
     "output_type": "execute_result"
    }
   ],
   "source": [
    "yhat_test = nb.predict(x_test)\n",
    "yhat_test"
   ]
  },
  {
   "cell_type": "code",
   "execution_count": 29,
   "id": "0df8b7c9",
   "metadata": {},
   "outputs": [
    {
     "data": {
      "text/plain": [
       "array([[ 7,  2],\n",
       "       [ 7, 20]], dtype=int64)"
      ]
     },
     "execution_count": 29,
     "metadata": {},
     "output_type": "execute_result"
    }
   ],
   "source": [
    "cm_test = confusion_matrix(y_test,yhat_test)\n",
    "cm_test"
   ]
  },
  {
   "cell_type": "code",
   "execution_count": 30,
   "id": "40d33c47",
   "metadata": {},
   "outputs": [
    {
     "name": "stdout",
     "output_type": "stream",
     "text": [
      "              precision    recall  f1-score   support\n",
      "\n",
      "           0       0.50      0.78      0.61         9\n",
      "           1       0.91      0.74      0.82        27\n",
      "\n",
      "    accuracy                           0.75        36\n",
      "   macro avg       0.70      0.76      0.71        36\n",
      "weighted avg       0.81      0.75      0.76        36\n",
      "\n"
     ]
    }
   ],
   "source": [
    "print(classification_report(y_test, yhat_test))"
   ]
  },
  {
   "cell_type": "markdown",
   "id": "f3e44009",
   "metadata": {},
   "source": [
    "### Hyperparameter Tuning"
   ]
  },
  {
   "cell_type": "code",
   "execution_count": 34,
   "id": "cb094b51",
   "metadata": {},
   "outputs": [],
   "source": [
    "cv_method = RepeatedStratifiedKFold(n_splits=10, \n",
    "                                    n_repeats=3, \n",
    "                                    random_state=999)\n",
    "\n",
    "param_grid_nb = {\n",
    "    'var_smoothing': np.logspace(0,-9, num=100)\n",
    "}"
   ]
  },
  {
   "cell_type": "code",
   "execution_count": 35,
   "id": "3295a920",
   "metadata": {},
   "outputs": [
    {
     "name": "stdout",
     "output_type": "stream",
     "text": [
      "Fitting 30 folds for each of 100 candidates, totalling 3000 fits\n",
      "GaussianNB()\n"
     ]
    }
   ],
   "source": [
    "## Param Tuning using Grid Search Method\n",
    "nbModel_grid = GridSearchCV(estimator=GaussianNB(), param_grid=param_grid_nb, verbose=1, cv=cv_method, n_jobs=-1)\n",
    "nbModel_grid.fit(x_train, y_train)"
   ]
  },
  {
   "cell_type": "code",
   "execution_count": 39,
   "id": "f660a36a",
   "metadata": {},
   "outputs": [
    {
     "name": "stdout",
     "output_type": "stream",
     "text": [
      "{'var_smoothing': 1e-09}\n"
     ]
    }
   ],
   "source": [
    "print(nbModel_grid.best_params_)"
   ]
  },
  {
   "cell_type": "code",
   "execution_count": 40,
   "id": "1977f3c4",
   "metadata": {},
   "outputs": [
    {
     "data": {
      "text/plain": [
       "array([[21,  0],\n",
       "       [12, 51]], dtype=int64)"
      ]
     },
     "execution_count": 40,
     "metadata": {},
     "output_type": "execute_result"
    }
   ],
   "source": [
    "# Predict Train After Tuning\n",
    "y_pred = nbModel_grid.predict(x_train)\n",
    "cm_train = confusion_matrix(y_train,y_pred)\n",
    "cm_train"
   ]
  },
  {
   "cell_type": "code",
   "execution_count": 41,
   "id": "3835231e",
   "metadata": {},
   "outputs": [
    {
     "name": "stdout",
     "output_type": "stream",
     "text": [
      "              precision    recall  f1-score   support\n",
      "\n",
      "           0       1.00      0.64      0.78        33\n",
      "           1       0.81      1.00      0.89        51\n",
      "\n",
      "    accuracy                           0.86        84\n",
      "   macro avg       0.90      0.82      0.84        84\n",
      "weighted avg       0.88      0.86      0.85        84\n",
      "\n"
     ]
    }
   ],
   "source": [
    "print(classification_report(y_pred, y_train))"
   ]
  },
  {
   "cell_type": "code",
   "execution_count": 42,
   "id": "ec0c1827",
   "metadata": {},
   "outputs": [
    {
     "name": "stdout",
     "output_type": "stream",
     "text": [
      "[1 1 0 0 1 1 1 0 0 0 1 0 1 0 0 0 1 1 1 1 0 1 1 1 1 0 0 0 1 1 1 1 1 0 1 1]\n"
     ]
    }
   ],
   "source": [
    "# Predict Test After Tuning\n",
    "y_pred = nbModel_grid.predict(x_test)\n",
    "print(y_pred)"
   ]
  },
  {
   "cell_type": "code",
   "execution_count": 43,
   "id": "c3947561",
   "metadata": {},
   "outputs": [
    {
     "data": {
      "text/plain": [
       "array([[ 7,  2],\n",
       "       [ 7, 20]], dtype=int64)"
      ]
     },
     "execution_count": 43,
     "metadata": {},
     "output_type": "execute_result"
    }
   ],
   "source": [
    "cm_test = confusion_matrix(y_test,y_pred)\n",
    "cm_test"
   ]
  },
  {
   "cell_type": "code",
   "execution_count": 44,
   "id": "5debd73f",
   "metadata": {},
   "outputs": [
    {
     "name": "stdout",
     "output_type": "stream",
     "text": [
      "              precision    recall  f1-score   support\n",
      "\n",
      "           0       0.78      0.50      0.61        14\n",
      "           1       0.74      0.91      0.82        22\n",
      "\n",
      "    accuracy                           0.75        36\n",
      "   macro avg       0.76      0.70      0.71        36\n",
      "weighted avg       0.76      0.75      0.74        36\n",
      "\n"
     ]
    }
   ],
   "source": [
    "print(classification_report(y_pred, y_test))"
   ]
  },
  {
   "cell_type": "markdown",
   "id": "67021e2f",
   "metadata": {},
   "source": [
    "## 2nd Model: KNN"
   ]
  },
  {
   "cell_type": "code",
   "execution_count": 46,
   "id": "b65d4444",
   "metadata": {},
   "outputs": [
    {
     "data": {
      "text/plain": [
       "KNeighborsClassifier()"
      ]
     },
     "execution_count": 46,
     "metadata": {},
     "output_type": "execute_result"
    }
   ],
   "source": [
    "knn = KNeighborsClassifier(n_neighbors = 5)\n",
    "knn.fit(x_train,y_train)"
   ]
  },
  {
   "cell_type": "code",
   "execution_count": 47,
   "id": "1e265d91",
   "metadata": {},
   "outputs": [],
   "source": [
    "yp_train = knn.predict(x_train)"
   ]
  },
  {
   "cell_type": "code",
   "execution_count": 48,
   "id": "962a6c76",
   "metadata": {},
   "outputs": [
    {
     "name": "stdout",
     "output_type": "stream",
     "text": [
      "[[10 11]\n",
      " [ 3 60]]\n"
     ]
    }
   ],
   "source": [
    "cm_train = confusion_matrix(y_train, yp_train)\n",
    "print(cm_train)"
   ]
  },
  {
   "cell_type": "code",
   "execution_count": 49,
   "id": "bd4bbfd9",
   "metadata": {},
   "outputs": [
    {
     "name": "stdout",
     "output_type": "stream",
     "text": [
      "              precision    recall  f1-score   support\n",
      "\n",
      "           0       0.48      0.77      0.59        13\n",
      "           1       0.95      0.85      0.90        71\n",
      "\n",
      "    accuracy                           0.83        84\n",
      "   macro avg       0.71      0.81      0.74        84\n",
      "weighted avg       0.88      0.83      0.85        84\n",
      "\n"
     ]
    }
   ],
   "source": [
    "# Classification Report KNN on Training before Tuning\n",
    "print(classification_report(yp_train, y_train))"
   ]
  },
  {
   "cell_type": "code",
   "execution_count": 50,
   "id": "e53fdabe",
   "metadata": {},
   "outputs": [
    {
     "data": {
      "text/plain": [
       "array([0, 1, 1, 1, 1, 1, 1, 1, 1, 1, 1, 1, 1, 1, 1, 1, 1, 1, 1, 1, 0, 1,\n",
       "       1, 1, 0, 0, 1, 0, 0, 1, 0, 1, 1, 1, 1, 1])"
      ]
     },
     "execution_count": 50,
     "metadata": {},
     "output_type": "execute_result"
    }
   ],
   "source": [
    "yp_test = knn.predict(x_test)\n",
    "yp_test"
   ]
  },
  {
   "cell_type": "code",
   "execution_count": 51,
   "id": "c1ccecdc",
   "metadata": {},
   "outputs": [
    {
     "name": "stdout",
     "output_type": "stream",
     "text": [
      "[[ 2  7]\n",
      " [ 5 22]]\n"
     ]
    }
   ],
   "source": [
    "cm_test = confusion_matrix(y_test, yp_test)\n",
    "print(cm_test)"
   ]
  },
  {
   "cell_type": "code",
   "execution_count": 53,
   "id": "8b71cdee",
   "metadata": {},
   "outputs": [
    {
     "name": "stdout",
     "output_type": "stream",
     "text": [
      "              precision    recall  f1-score   support\n",
      "\n",
      "           0       0.22      0.29      0.25         7\n",
      "           1       0.81      0.76      0.79        29\n",
      "\n",
      "    accuracy                           0.67        36\n",
      "   macro avg       0.52      0.52      0.52        36\n",
      "weighted avg       0.70      0.67      0.68        36\n",
      "\n"
     ]
    }
   ],
   "source": [
    "print(classification_report(yp_test, y_test))"
   ]
  },
  {
   "cell_type": "markdown",
   "id": "b0253f1d",
   "metadata": {},
   "source": [
    "### Hyperparameter Tuning"
   ]
  },
  {
   "cell_type": "code",
   "execution_count": 54,
   "id": "dbf64361",
   "metadata": {},
   "outputs": [],
   "source": [
    "## List Hyperparameters that we want to tune.\n",
    "leaf_size = list(range(1,50))\n",
    "n_neighbors = list(range(1,30))\n",
    "p=[1,2]\n",
    "## Convert to dictionary\n",
    "hyperparameters = dict(leaf_size=leaf_size, n_neighbors=n_neighbors, p=p)\n",
    "\n",
    "## Create tuned KNN Model\n",
    "knn_2 = KNeighborsClassifier()\n",
    "clf = GridSearchCV(knn_2, hyperparameters, cv=10)\n",
    "\n",
    "best_model = clf.fit(x,y)"
   ]
  },
  {
   "cell_type": "code",
   "execution_count": 55,
   "id": "dd9f992c",
   "metadata": {
    "scrolled": true
   },
   "outputs": [
    {
     "name": "stdout",
     "output_type": "stream",
     "text": [
      "Best leaf_size: 1\n",
      "Best p: 2\n",
      "Best n_neighbors: 1\n"
     ]
    }
   ],
   "source": [
    "## Param Tuning using Grid Search Method\n",
    "print('Best leaf_size:', best_model.best_estimator_.get_params()['leaf_size'])\n",
    "print('Best p:', best_model.best_estimator_.get_params()['p'])\n",
    "print('Best n_neighbors:', best_model.best_estimator_.get_params()['n_neighbors'])"
   ]
  },
  {
   "cell_type": "code",
   "execution_count": 56,
   "id": "c2b5d9c7",
   "metadata": {},
   "outputs": [
    {
     "data": {
      "text/plain": [
       "KNeighborsClassifier(n_neighbors=1)"
      ]
     },
     "execution_count": 56,
     "metadata": {},
     "output_type": "execute_result"
    }
   ],
   "source": [
    "knn_fit = KNeighborsClassifier(n_neighbors = 1)\n",
    "knn_fit.fit(x_train,y_train)"
   ]
  },
  {
   "cell_type": "code",
   "execution_count": 57,
   "id": "fc23b4ff",
   "metadata": {},
   "outputs": [
    {
     "name": "stdout",
     "output_type": "stream",
     "text": [
      "[[21  0]\n",
      " [ 0 63]]\n"
     ]
    }
   ],
   "source": [
    "yp_train = knn_fit.predict(x_train)\n",
    "cm_train = confusion_matrix(y_train, yp_train)\n",
    "print(cm_train)"
   ]
  },
  {
   "cell_type": "code",
   "execution_count": 58,
   "id": "5ce756cf",
   "metadata": {},
   "outputs": [
    {
     "name": "stdout",
     "output_type": "stream",
     "text": [
      "              precision    recall  f1-score   support\n",
      "\n",
      "           0       1.00      1.00      1.00        21\n",
      "           1       1.00      1.00      1.00        63\n",
      "\n",
      "    accuracy                           1.00        84\n",
      "   macro avg       1.00      1.00      1.00        84\n",
      "weighted avg       1.00      1.00      1.00        84\n",
      "\n"
     ]
    }
   ],
   "source": [
    "print(classification_report(yp_train, y_train))"
   ]
  },
  {
   "cell_type": "code",
   "execution_count": 59,
   "id": "4d25388e",
   "metadata": {},
   "outputs": [
    {
     "name": "stdout",
     "output_type": "stream",
     "text": [
      "[[ 6  3]\n",
      " [ 2 25]]\n"
     ]
    }
   ],
   "source": [
    "yp_test = knn_fit.predict(x_test)\n",
    "cm_test = confusion_matrix(y_test, yp_test)\n",
    "print(cm_test)"
   ]
  },
  {
   "cell_type": "code",
   "execution_count": 60,
   "id": "72533c6d",
   "metadata": {},
   "outputs": [
    {
     "name": "stdout",
     "output_type": "stream",
     "text": [
      "              precision    recall  f1-score   support\n",
      "\n",
      "           0       0.67      0.75      0.71         8\n",
      "           1       0.93      0.89      0.91        28\n",
      "\n",
      "    accuracy                           0.86        36\n",
      "   macro avg       0.80      0.82      0.81        36\n",
      "weighted avg       0.87      0.86      0.86        36\n",
      "\n"
     ]
    }
   ],
   "source": [
    "print(classification_report(yp_test, y_test))"
   ]
  },
  {
   "cell_type": "code",
   "execution_count": null,
   "id": "b8be6c05",
   "metadata": {},
   "outputs": [],
   "source": []
  }
 ],
 "metadata": {
  "kernelspec": {
   "display_name": "Python 3",
   "language": "python",
   "name": "python3"
  },
  "language_info": {
   "codemirror_mode": {
    "name": "ipython",
    "version": 3
   },
   "file_extension": ".py",
   "mimetype": "text/x-python",
   "name": "python",
   "nbconvert_exporter": "python",
   "pygments_lexer": "ipython3",
   "version": "3.8.8"
  }
 },
 "nbformat": 4,
 "nbformat_minor": 5
}
